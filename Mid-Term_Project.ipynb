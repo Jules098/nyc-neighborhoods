{
 "cells": [
  {
   "cell_type": "markdown",
   "id": "7d38c530-8b1f-48f7-a388-a407f2d46c62",
   "metadata": {},
   "source": [
    "## Data Acquisition"
   ]
  },
  {
   "cell_type": "code",
   "execution_count": 56,
   "id": "90847315-964e-43b2-a9a3-8f79e6ba995a",
   "metadata": {},
   "outputs": [],
   "source": [
    "import json"
   ]
  },
  {
   "cell_type": "code",
   "execution_count": 57,
   "id": "334aa1fd-d060-401d-b0c4-40306165e1d0",
   "metadata": {},
   "outputs": [],
   "source": [
    "with open('nyc_geo.json') as f:\n",
    "    nyc_geo_json = json.load(f)"
   ]
  },
  {
   "cell_type": "code",
   "execution_count": null,
   "id": "e8baf5ea-0a1d-4f4c-8e42-55c12c73c62b",
   "metadata": {},
   "outputs": [],
   "source": [
    "nyc_geo_json['features']"
   ]
  },
  {
   "cell_type": "code",
   "execution_count": 59,
   "id": "21b73496-d61f-481f-8c03-cebfbcf0fb96",
   "metadata": {},
   "outputs": [
    {
     "data": {
      "text/html": [
       "<div>\n",
       "<style scoped>\n",
       "    .dataframe tbody tr th:only-of-type {\n",
       "        vertical-align: middle;\n",
       "    }\n",
       "\n",
       "    .dataframe tbody tr th {\n",
       "        vertical-align: top;\n",
       "    }\n",
       "\n",
       "    .dataframe thead th {\n",
       "        text-align: right;\n",
       "    }\n",
       "</style>\n",
       "<table border=\"1\" class=\"dataframe\">\n",
       "  <thead>\n",
       "    <tr style=\"text-align: right;\">\n",
       "      <th></th>\n",
       "      <th>type</th>\n",
       "      <th>id</th>\n",
       "      <th>geometry_name</th>\n",
       "      <th>geometry.type</th>\n",
       "      <th>geometry.coordinates</th>\n",
       "      <th>properties.name</th>\n",
       "      <th>properties.stacked</th>\n",
       "      <th>properties.annoline1</th>\n",
       "      <th>properties.annoline2</th>\n",
       "      <th>properties.annoline3</th>\n",
       "      <th>properties.annoangle</th>\n",
       "      <th>properties.borough</th>\n",
       "      <th>properties.bbox</th>\n",
       "    </tr>\n",
       "  </thead>\n",
       "  <tbody>\n",
       "    <tr>\n",
       "      <th>0</th>\n",
       "      <td>Feature</td>\n",
       "      <td>nyu_2451_34572.1</td>\n",
       "      <td>geom</td>\n",
       "      <td>Point</td>\n",
       "      <td>[-73.84720052054902, 40.89470517661]</td>\n",
       "      <td>Wakefield</td>\n",
       "      <td>1</td>\n",
       "      <td>Wakefield</td>\n",
       "      <td>None</td>\n",
       "      <td>None</td>\n",
       "      <td>0.0</td>\n",
       "      <td>Bronx</td>\n",
       "      <td>[-73.84720052054902, 40.89470517661, -73.84720...</td>\n",
       "    </tr>\n",
       "    <tr>\n",
       "      <th>1</th>\n",
       "      <td>Feature</td>\n",
       "      <td>nyu_2451_34572.2</td>\n",
       "      <td>geom</td>\n",
       "      <td>Point</td>\n",
       "      <td>[-73.82993910812398, 40.87429419303012]</td>\n",
       "      <td>Co-op City</td>\n",
       "      <td>2</td>\n",
       "      <td>Co-op</td>\n",
       "      <td>City</td>\n",
       "      <td>None</td>\n",
       "      <td>0.0</td>\n",
       "      <td>Bronx</td>\n",
       "      <td>[-73.82993910812398, 40.87429419303012, -73.82...</td>\n",
       "    </tr>\n",
       "    <tr>\n",
       "      <th>2</th>\n",
       "      <td>Feature</td>\n",
       "      <td>nyu_2451_34572.3</td>\n",
       "      <td>geom</td>\n",
       "      <td>Point</td>\n",
       "      <td>[-73.82780644716412, 40.887555677350775]</td>\n",
       "      <td>Eastchester</td>\n",
       "      <td>1</td>\n",
       "      <td>Eastchester</td>\n",
       "      <td>None</td>\n",
       "      <td>None</td>\n",
       "      <td>0.0</td>\n",
       "      <td>Bronx</td>\n",
       "      <td>[-73.82780644716412, 40.887555677350775, -73.8...</td>\n",
       "    </tr>\n",
       "    <tr>\n",
       "      <th>3</th>\n",
       "      <td>Feature</td>\n",
       "      <td>nyu_2451_34572.4</td>\n",
       "      <td>geom</td>\n",
       "      <td>Point</td>\n",
       "      <td>[-73.90564259591682, 40.89543742690383]</td>\n",
       "      <td>Fieldston</td>\n",
       "      <td>1</td>\n",
       "      <td>Fieldston</td>\n",
       "      <td>None</td>\n",
       "      <td>None</td>\n",
       "      <td>0.0</td>\n",
       "      <td>Bronx</td>\n",
       "      <td>[-73.90564259591682, 40.89543742690383, -73.90...</td>\n",
       "    </tr>\n",
       "    <tr>\n",
       "      <th>4</th>\n",
       "      <td>Feature</td>\n",
       "      <td>nyu_2451_34572.5</td>\n",
       "      <td>geom</td>\n",
       "      <td>Point</td>\n",
       "      <td>[-73.9125854610857, 40.890834493891305]</td>\n",
       "      <td>Riverdale</td>\n",
       "      <td>1</td>\n",
       "      <td>Riverdale</td>\n",
       "      <td>None</td>\n",
       "      <td>None</td>\n",
       "      <td>0.0</td>\n",
       "      <td>Bronx</td>\n",
       "      <td>[-73.9125854610857, 40.890834493891305, -73.91...</td>\n",
       "    </tr>\n",
       "  </tbody>\n",
       "</table>\n",
       "</div>"
      ],
      "text/plain": [
       "      type                id geometry_name geometry.type  \\\n",
       "0  Feature  nyu_2451_34572.1          geom         Point   \n",
       "1  Feature  nyu_2451_34572.2          geom         Point   \n",
       "2  Feature  nyu_2451_34572.3          geom         Point   \n",
       "3  Feature  nyu_2451_34572.4          geom         Point   \n",
       "4  Feature  nyu_2451_34572.5          geom         Point   \n",
       "\n",
       "                       geometry.coordinates properties.name  \\\n",
       "0      [-73.84720052054902, 40.89470517661]       Wakefield   \n",
       "1   [-73.82993910812398, 40.87429419303012]      Co-op City   \n",
       "2  [-73.82780644716412, 40.887555677350775]     Eastchester   \n",
       "3   [-73.90564259591682, 40.89543742690383]       Fieldston   \n",
       "4   [-73.9125854610857, 40.890834493891305]       Riverdale   \n",
       "\n",
       "   properties.stacked properties.annoline1 properties.annoline2  \\\n",
       "0                   1            Wakefield                 None   \n",
       "1                   2                Co-op                 City   \n",
       "2                   1          Eastchester                 None   \n",
       "3                   1            Fieldston                 None   \n",
       "4                   1            Riverdale                 None   \n",
       "\n",
       "  properties.annoline3  properties.annoangle properties.borough  \\\n",
       "0                 None                   0.0              Bronx   \n",
       "1                 None                   0.0              Bronx   \n",
       "2                 None                   0.0              Bronx   \n",
       "3                 None                   0.0              Bronx   \n",
       "4                 None                   0.0              Bronx   \n",
       "\n",
       "                                     properties.bbox  \n",
       "0  [-73.84720052054902, 40.89470517661, -73.84720...  \n",
       "1  [-73.82993910812398, 40.87429419303012, -73.82...  \n",
       "2  [-73.82780644716412, 40.887555677350775, -73.8...  \n",
       "3  [-73.90564259591682, 40.89543742690383, -73.90...  \n",
       "4  [-73.9125854610857, 40.890834493891305, -73.91...  "
      ]
     },
     "execution_count": 59,
     "metadata": {},
     "output_type": "execute_result"
    }
   ],
   "source": [
    "from pandas import json_normalize  \n",
    "features = json_normalize(nyc_geo_json, record_path ='features')\n",
    "features.head()"
   ]
  },
  {
   "cell_type": "code",
   "execution_count": 60,
   "id": "b65a309f-3c9f-4a6a-862d-a5211164e80a",
   "metadata": {},
   "outputs": [
    {
     "data": {
      "text/plain": [
       "(Bay Terrace      2\n",
       " Murray Hill      2\n",
       " Chelsea          2\n",
       " Sunnyside        2\n",
       " Wakefield        1\n",
       "                 ..\n",
       " Fort Hamilton    1\n",
       " Ocean Parkway    1\n",
       " South Side       1\n",
       " North Side       1\n",
       " Fox Hills        1\n",
       " Name: properties.name, Length: 302, dtype: int64,\n",
       " East                5\n",
       " New                 5\n",
       " Sunnyside           3\n",
       " Jamaica             3\n",
       " West                3\n",
       "                    ..\n",
       " Central             1\n",
       " Yorkville           1\n",
       " Lenox               1\n",
       " Roosevelt Island    1\n",
       " Fox                 1\n",
       " Name: properties.annoline1, Length: 263, dtype: int64)"
      ]
     },
     "execution_count": 60,
     "metadata": {},
     "output_type": "execute_result"
    }
   ],
   "source": [
    "features['properties.name'].value_counts(), features['properties.annoline1'].value_counts()"
   ]
  },
  {
   "cell_type": "code",
   "execution_count": 61,
   "id": "caa70833-0d01-4dfa-ada0-240042e3776b",
   "metadata": {},
   "outputs": [
    {
     "data": {
      "text/plain": [
       "([-73.84720052054902, 40.89470517661]        1\n",
       " [-74.1071817826561, 40.63187892654607]      1\n",
       " [-74.11918058534842, 40.61333593766742]     1\n",
       " [-74.17464532993542, 40.63968297845542]     1\n",
       " [-74.15008537046981, 40.632546390481124]    1\n",
       "                                            ..\n",
       " [-73.93690027985234, 40.85190252555305]     1\n",
       " [-73.99427936255978, 40.71561842231432]     1\n",
       " [-74.03197914537984, 40.61476812694226]     1\n",
       " [-73.96836678035541, 40.61305976667942]     1\n",
       " [-74.08173992211962, 40.61731079252983]     1\n",
       " Name: geometry.coordinates, Length: 306, dtype: int64,\n",
       " [-73.84720052054902, 40.89470517661, -73.84720052054902, 40.89470517661]            1\n",
       " [-74.1071817826561, 40.63187892654607, -74.1071817826561, 40.63187892654607]        1\n",
       " [-74.11918058534842, 40.61333593766742, -74.11918058534842, 40.61333593766742]      1\n",
       " [-74.17464532993542, 40.63968297845542, -74.17464532993542, 40.63968297845542]      1\n",
       " [-74.15008537046981, 40.632546390481124, -74.15008537046981, 40.632546390481124]    1\n",
       "                                                                                    ..\n",
       " [-73.93690027985234, 40.85190252555305, -73.93690027985234, 40.85190252555305]      1\n",
       " [-73.99427936255978, 40.71561842231432, -73.99427936255978, 40.71561842231432]      1\n",
       " [-74.03197914537984, 40.61476812694226, -74.03197914537984, 40.61476812694226]      1\n",
       " [-73.96836678035541, 40.61305976667942, -73.96836678035541, 40.61305976667942]      1\n",
       " [-74.08173992211962, 40.61731079252983, -74.08173992211962, 40.61731079252983]      1\n",
       " Name: properties.bbox, Length: 306, dtype: int64)"
      ]
     },
     "execution_count": 61,
     "metadata": {},
     "output_type": "execute_result"
    }
   ],
   "source": [
    "features['geometry.coordinates'].value_counts(), features['properties.bbox'].value_counts()"
   ]
  },
  {
   "cell_type": "markdown",
   "id": "6030c809-ba0e-4686-b480-951660fe6e4f",
   "metadata": {},
   "source": [
    "## Data Organization\n",
    "#### Parse the json nyc_geo.json into the dataframe with the following columns:\n",
    "\n",
    "- Borough\n",
    "- Neighborhood\n",
    "- Latitude\n",
    "- Longitude"
   ]
  },
  {
   "cell_type": "code",
   "execution_count": 67,
   "id": "014a18fd-28ee-4497-8abf-8e97c3f5af58",
   "metadata": {},
   "outputs": [
    {
     "data": {
      "text/html": [
       "<div>\n",
       "<style scoped>\n",
       "    .dataframe tbody tr th:only-of-type {\n",
       "        vertical-align: middle;\n",
       "    }\n",
       "\n",
       "    .dataframe tbody tr th {\n",
       "        vertical-align: top;\n",
       "    }\n",
       "\n",
       "    .dataframe thead th {\n",
       "        text-align: right;\n",
       "    }\n",
       "</style>\n",
       "<table border=\"1\" class=\"dataframe\">\n",
       "  <thead>\n",
       "    <tr style=\"text-align: right;\">\n",
       "      <th></th>\n",
       "      <th>Latitude</th>\n",
       "      <th>Longitude</th>\n",
       "    </tr>\n",
       "  </thead>\n",
       "  <tbody>\n",
       "    <tr>\n",
       "      <th>0</th>\n",
       "      <td>-73.847201</td>\n",
       "      <td>40.894705</td>\n",
       "    </tr>\n",
       "    <tr>\n",
       "      <th>1</th>\n",
       "      <td>-73.829939</td>\n",
       "      <td>40.874294</td>\n",
       "    </tr>\n",
       "    <tr>\n",
       "      <th>2</th>\n",
       "      <td>-73.827806</td>\n",
       "      <td>40.887556</td>\n",
       "    </tr>\n",
       "    <tr>\n",
       "      <th>3</th>\n",
       "      <td>-73.905643</td>\n",
       "      <td>40.895437</td>\n",
       "    </tr>\n",
       "    <tr>\n",
       "      <th>4</th>\n",
       "      <td>-73.912585</td>\n",
       "      <td>40.890834</td>\n",
       "    </tr>\n",
       "  </tbody>\n",
       "</table>\n",
       "</div>"
      ],
      "text/plain": [
       "    Latitude  Longitude\n",
       "0 -73.847201  40.894705\n",
       "1 -73.829939  40.874294\n",
       "2 -73.827806  40.887556\n",
       "3 -73.905643  40.895437\n",
       "4 -73.912585  40.890834"
      ]
     },
     "execution_count": 67,
     "metadata": {},
     "output_type": "execute_result"
    }
   ],
   "source": [
    "import pandas as pd\n",
    "LatLon = pd.DataFrame(features['geometry.coordinates'].to_list(), columns=['Latitude', 'Longitude'])\n",
    "LatLon.head()"
   ]
  },
  {
   "cell_type": "code",
   "execution_count": 63,
   "id": "00fe2f8f-0ead-4c1f-b1bc-94260d7d9207",
   "metadata": {},
   "outputs": [
    {
     "data": {
      "text/html": [
       "<div>\n",
       "<style scoped>\n",
       "    .dataframe tbody tr th:only-of-type {\n",
       "        vertical-align: middle;\n",
       "    }\n",
       "\n",
       "    .dataframe tbody tr th {\n",
       "        vertical-align: top;\n",
       "    }\n",
       "\n",
       "    .dataframe thead th {\n",
       "        text-align: right;\n",
       "    }\n",
       "</style>\n",
       "<table border=\"1\" class=\"dataframe\">\n",
       "  <thead>\n",
       "    <tr style=\"text-align: right;\">\n",
       "      <th></th>\n",
       "      <th>properties.name</th>\n",
       "      <th>properties.borough</th>\n",
       "    </tr>\n",
       "  </thead>\n",
       "  <tbody>\n",
       "    <tr>\n",
       "      <th>0</th>\n",
       "      <td>Wakefield</td>\n",
       "      <td>Bronx</td>\n",
       "    </tr>\n",
       "    <tr>\n",
       "      <th>1</th>\n",
       "      <td>Co-op City</td>\n",
       "      <td>Bronx</td>\n",
       "    </tr>\n",
       "    <tr>\n",
       "      <th>2</th>\n",
       "      <td>Eastchester</td>\n",
       "      <td>Bronx</td>\n",
       "    </tr>\n",
       "    <tr>\n",
       "      <th>3</th>\n",
       "      <td>Fieldston</td>\n",
       "      <td>Bronx</td>\n",
       "    </tr>\n",
       "    <tr>\n",
       "      <th>4</th>\n",
       "      <td>Riverdale</td>\n",
       "      <td>Bronx</td>\n",
       "    </tr>\n",
       "  </tbody>\n",
       "</table>\n",
       "</div>"
      ],
      "text/plain": [
       "  properties.name properties.borough\n",
       "0       Wakefield              Bronx\n",
       "1      Co-op City              Bronx\n",
       "2     Eastchester              Bronx\n",
       "3       Fieldston              Bronx\n",
       "4       Riverdale              Bronx"
      ]
     },
     "execution_count": 63,
     "metadata": {},
     "output_type": "execute_result"
    }
   ],
   "source": [
    "df1=features[['properties.name', 'properties.borough']]\n",
    "df1.head()"
   ]
  },
  {
   "cell_type": "code",
   "execution_count": 71,
   "id": "5ec23675-df19-4a71-8ba5-99efa739cf99",
   "metadata": {},
   "outputs": [
    {
     "data": {
      "text/html": [
       "<div>\n",
       "<style scoped>\n",
       "    .dataframe tbody tr th:only-of-type {\n",
       "        vertical-align: middle;\n",
       "    }\n",
       "\n",
       "    .dataframe tbody tr th {\n",
       "        vertical-align: top;\n",
       "    }\n",
       "\n",
       "    .dataframe thead th {\n",
       "        text-align: right;\n",
       "    }\n",
       "</style>\n",
       "<table border=\"1\" class=\"dataframe\">\n",
       "  <thead>\n",
       "    <tr style=\"text-align: right;\">\n",
       "      <th></th>\n",
       "      <th>Neighborhood</th>\n",
       "      <th>Borough</th>\n",
       "      <th>Latitude</th>\n",
       "      <th>Longitude</th>\n",
       "    </tr>\n",
       "  </thead>\n",
       "  <tbody>\n",
       "    <tr>\n",
       "      <th>0</th>\n",
       "      <td>Wakefield</td>\n",
       "      <td>Bronx</td>\n",
       "      <td>-73.847201</td>\n",
       "      <td>40.894705</td>\n",
       "    </tr>\n",
       "    <tr>\n",
       "      <th>1</th>\n",
       "      <td>Co-op City</td>\n",
       "      <td>Bronx</td>\n",
       "      <td>-73.829939</td>\n",
       "      <td>40.874294</td>\n",
       "    </tr>\n",
       "    <tr>\n",
       "      <th>2</th>\n",
       "      <td>Eastchester</td>\n",
       "      <td>Bronx</td>\n",
       "      <td>-73.827806</td>\n",
       "      <td>40.887556</td>\n",
       "    </tr>\n",
       "    <tr>\n",
       "      <th>3</th>\n",
       "      <td>Fieldston</td>\n",
       "      <td>Bronx</td>\n",
       "      <td>-73.905643</td>\n",
       "      <td>40.895437</td>\n",
       "    </tr>\n",
       "    <tr>\n",
       "      <th>4</th>\n",
       "      <td>Riverdale</td>\n",
       "      <td>Bronx</td>\n",
       "      <td>-73.912585</td>\n",
       "      <td>40.890834</td>\n",
       "    </tr>\n",
       "  </tbody>\n",
       "</table>\n",
       "</div>"
      ],
      "text/plain": [
       "  Neighborhood Borough   Latitude  Longitude\n",
       "0    Wakefield   Bronx -73.847201  40.894705\n",
       "1   Co-op City   Bronx -73.829939  40.874294\n",
       "2  Eastchester   Bronx -73.827806  40.887556\n",
       "3    Fieldston   Bronx -73.905643  40.895437\n",
       "4    Riverdale   Bronx -73.912585  40.890834"
      ]
     },
     "execution_count": 71,
     "metadata": {},
     "output_type": "execute_result"
    }
   ],
   "source": [
    "dataFrames=[df1, LatLon]\n",
    "nyc_df = pd.concat(dataFrames, axis=1)\n",
    "nyc_df = nyc_df.rename(columns={'properties.name' : 'Neighborhood', 'properties.borough': 'Borough'})\n",
    "nyc_df.head()"
   ]
  },
  {
   "cell_type": "code",
   "execution_count": 76,
   "id": "fec8f3b0-50ec-4e2d-b1bc-c120e1919496",
   "metadata": {},
   "outputs": [
    {
     "name": "stdout",
     "output_type": "stream",
     "text": [
      "The dataframe has 5 boroughs and 306 neighborhoods.\n"
     ]
    }
   ],
   "source": [
    "print('The dataframe has {} boroughs and {} neighborhoods.'.format(\n",
    "        len(nyc_df['Borough'].unique()),\n",
    "        nyc_df.shape[0]))"
   ]
  },
  {
   "cell_type": "markdown",
   "id": "c1fd873e-c1c5-4a6e-ae70-bd8c3aac3882",
   "metadata": {},
   "source": [
    "### Dealing with Duplicates"
   ]
  },
  {
   "cell_type": "markdown",
   "id": "2e696e4d-5d8a-4838-9ff9-3050b238efcf",
   "metadata": {},
   "source": [
    "##### The following neighborhoods share a name with another neighborhood in a separate borough."
   ]
  },
  {
   "cell_type": "code",
   "execution_count": 77,
   "id": "ec9167f5-1f3f-4068-8df9-ca182c81693a",
   "metadata": {},
   "outputs": [
    {
     "data": {
      "text/plain": [
       "Bay Terrace    2\n",
       "Murray Hill    2\n",
       "Chelsea        2\n",
       "Sunnyside      2\n",
       "Name: Neighborhood, dtype: int64"
      ]
     },
     "execution_count": 77,
     "metadata": {},
     "output_type": "execute_result"
    }
   ],
   "source": [
    "nyc_doubles = nyc_df['Neighborhood'].value_counts()\n",
    "nyc_doubles[nyc_doubles>1]"
   ]
  },
  {
   "cell_type": "code",
   "execution_count": 78,
   "id": "6dab3f66-1bf9-4ec8-b014-430c0b5f979c",
   "metadata": {},
   "outputs": [
    {
     "data": {
      "text/html": [
       "<div>\n",
       "<style scoped>\n",
       "    .dataframe tbody tr th:only-of-type {\n",
       "        vertical-align: middle;\n",
       "    }\n",
       "\n",
       "    .dataframe tbody tr th {\n",
       "        vertical-align: top;\n",
       "    }\n",
       "\n",
       "    .dataframe thead th {\n",
       "        text-align: right;\n",
       "    }\n",
       "</style>\n",
       "<table border=\"1\" class=\"dataframe\">\n",
       "  <thead>\n",
       "    <tr style=\"text-align: right;\">\n",
       "      <th></th>\n",
       "      <th>Neighborhood</th>\n",
       "      <th>Borough</th>\n",
       "      <th>Latitude</th>\n",
       "      <th>Longitude</th>\n",
       "    </tr>\n",
       "  </thead>\n",
       "  <tbody>\n",
       "    <tr>\n",
       "      <th>116</th>\n",
       "      <td>Chelsea</td>\n",
       "      <td>Manhattan</td>\n",
       "      <td>-74.003116</td>\n",
       "      <td>40.744035</td>\n",
       "    </tr>\n",
       "    <tr>\n",
       "      <th>244</th>\n",
       "      <td>Chelsea</td>\n",
       "      <td>Staten Island</td>\n",
       "      <td>-74.189560</td>\n",
       "      <td>40.594726</td>\n",
       "    </tr>\n",
       "  </tbody>\n",
       "</table>\n",
       "</div>"
      ],
      "text/plain": [
       "    Neighborhood        Borough   Latitude  Longitude\n",
       "116      Chelsea      Manhattan -74.003116  40.744035\n",
       "244      Chelsea  Staten Island -74.189560  40.594726"
      ]
     },
     "execution_count": 78,
     "metadata": {},
     "output_type": "execute_result"
    }
   ],
   "source": [
    "nyc_df[nyc_df['Neighborhood'] == 'Chelsea']"
   ]
  },
  {
   "cell_type": "markdown",
   "id": "b696fb6e-7377-4e6e-bb3d-e2f49bf9aa5f",
   "metadata": {
    "tags": []
   },
   "source": [
    "##### We will parse through the dataframe to place the borough name at the end of the neighborhood name so as to distinguish between them."
   ]
  },
  {
   "cell_type": "code",
   "execution_count": 80,
   "id": "414a339f-6513-45f4-abae-985689f3f98e",
   "metadata": {},
   "outputs": [],
   "source": [
    "for i in range(nyc_df.shape[0]):\n",
    "    nyc_in = nyc_df.loc[i, 'Neighborhood']\n",
    "    if nyc_df[nyc_df['Neighborhood'] == nyc_in].shape[0] > 1:\n",
    "        nyc_in1 = nyc_df[nyc_df['Neighborhood'] == nyc_in].index.tolist()\n",
    "        for j in nyc_in1:\n",
    "            nyc_in2 = nyc_df.loc[j, 'Borough']\n",
    "            nyc_df.loc[j, 'Neighborhood'] = nyc_in + ', ' + nyc_in2"
   ]
  },
  {
   "cell_type": "code",
   "execution_count": 81,
   "id": "1eb9a00e-fc43-4283-815c-2a2594dcfc4f",
   "metadata": {},
   "outputs": [
    {
     "data": {
      "text/html": [
       "<div>\n",
       "<style scoped>\n",
       "    .dataframe tbody tr th:only-of-type {\n",
       "        vertical-align: middle;\n",
       "    }\n",
       "\n",
       "    .dataframe tbody tr th {\n",
       "        vertical-align: top;\n",
       "    }\n",
       "\n",
       "    .dataframe thead th {\n",
       "        text-align: right;\n",
       "    }\n",
       "</style>\n",
       "<table border=\"1\" class=\"dataframe\">\n",
       "  <thead>\n",
       "    <tr style=\"text-align: right;\">\n",
       "      <th></th>\n",
       "      <th>Neighborhood</th>\n",
       "      <th>Borough</th>\n",
       "      <th>Latitude</th>\n",
       "      <th>Longitude</th>\n",
       "    </tr>\n",
       "  </thead>\n",
       "  <tbody>\n",
       "    <tr>\n",
       "      <th>116</th>\n",
       "      <td>Chelsea, Manhattan</td>\n",
       "      <td>Manhattan</td>\n",
       "      <td>-74.003116</td>\n",
       "      <td>40.744035</td>\n",
       "    </tr>\n",
       "    <tr>\n",
       "      <th>244</th>\n",
       "      <td>Chelsea, Staten Island</td>\n",
       "      <td>Staten Island</td>\n",
       "      <td>-74.189560</td>\n",
       "      <td>40.594726</td>\n",
       "    </tr>\n",
       "  </tbody>\n",
       "</table>\n",
       "</div>"
      ],
      "text/plain": [
       "               Neighborhood        Borough   Latitude  Longitude\n",
       "116      Chelsea, Manhattan      Manhattan -74.003116  40.744035\n",
       "244  Chelsea, Staten Island  Staten Island -74.189560  40.594726"
      ]
     },
     "execution_count": 81,
     "metadata": {},
     "output_type": "execute_result"
    }
   ],
   "source": [
    "nyc_df[nyc_df['Neighborhood'].str.startswith('Chelsea')]"
   ]
  },
  {
   "cell_type": "code",
   "execution_count": 84,
   "id": "fcc0933c-7967-4744-8ad7-5c36356d9cfc",
   "metadata": {},
   "outputs": [
    {
     "data": {
      "text/html": [
       "<div>\n",
       "<style scoped>\n",
       "    .dataframe tbody tr th:only-of-type {\n",
       "        vertical-align: middle;\n",
       "    }\n",
       "\n",
       "    .dataframe tbody tr th {\n",
       "        vertical-align: top;\n",
       "    }\n",
       "\n",
       "    .dataframe thead th {\n",
       "        text-align: right;\n",
       "    }\n",
       "</style>\n",
       "<table border=\"1\" class=\"dataframe\">\n",
       "  <thead>\n",
       "    <tr style=\"text-align: right;\">\n",
       "      <th></th>\n",
       "      <th>Neighborhood</th>\n",
       "      <th>Borough</th>\n",
       "      <th>Latitude</th>\n",
       "      <th>Longitude</th>\n",
       "    </tr>\n",
       "  </thead>\n",
       "  <tbody>\n",
       "    <tr>\n",
       "      <th>140</th>\n",
       "      <td>Sunnyside, Queens</td>\n",
       "      <td>Queens</td>\n",
       "      <td>-73.926916</td>\n",
       "      <td>40.740176</td>\n",
       "    </tr>\n",
       "    <tr>\n",
       "      <th>220</th>\n",
       "      <td>Sunnyside, Staten Island</td>\n",
       "      <td>Staten Island</td>\n",
       "      <td>-74.097126</td>\n",
       "      <td>40.612760</td>\n",
       "    </tr>\n",
       "    <tr>\n",
       "      <th>277</th>\n",
       "      <td>Sunnyside Gardens</td>\n",
       "      <td>Queens</td>\n",
       "      <td>-73.918193</td>\n",
       "      <td>40.745652</td>\n",
       "    </tr>\n",
       "  </tbody>\n",
       "</table>\n",
       "</div>"
      ],
      "text/plain": [
       "                 Neighborhood        Borough   Latitude  Longitude\n",
       "140         Sunnyside, Queens         Queens -73.926916  40.740176\n",
       "220  Sunnyside, Staten Island  Staten Island -74.097126  40.612760\n",
       "277         Sunnyside Gardens         Queens -73.918193  40.745652"
      ]
     },
     "execution_count": 84,
     "metadata": {},
     "output_type": "execute_result"
    }
   ],
   "source": [
    "nyc_df[nyc_df['Neighborhood'].str.startswith('Sunnyside')]"
   ]
  },
  {
   "cell_type": "code",
   "execution_count": 85,
   "id": "569b2cb5-fb1a-402b-b55d-60d3be37b6b5",
   "metadata": {},
   "outputs": [
    {
     "data": {
      "text/html": [
       "<div>\n",
       "<style scoped>\n",
       "    .dataframe tbody tr th:only-of-type {\n",
       "        vertical-align: middle;\n",
       "    }\n",
       "\n",
       "    .dataframe tbody tr th {\n",
       "        vertical-align: top;\n",
       "    }\n",
       "\n",
       "    .dataframe thead th {\n",
       "        text-align: right;\n",
       "    }\n",
       "</style>\n",
       "<table border=\"1\" class=\"dataframe\">\n",
       "  <thead>\n",
       "    <tr style=\"text-align: right;\">\n",
       "      <th></th>\n",
       "      <th>Neighborhood</th>\n",
       "      <th>Borough</th>\n",
       "      <th>Latitude</th>\n",
       "      <th>Longitude</th>\n",
       "    </tr>\n",
       "  </thead>\n",
       "  <tbody>\n",
       "    <tr>\n",
       "      <th>115</th>\n",
       "      <td>Murray Hill, Manhattan</td>\n",
       "      <td>Manhattan</td>\n",
       "      <td>-73.978332</td>\n",
       "      <td>40.748303</td>\n",
       "    </tr>\n",
       "    <tr>\n",
       "      <th>180</th>\n",
       "      <td>Murray Hill, Queens</td>\n",
       "      <td>Queens</td>\n",
       "      <td>-73.812763</td>\n",
       "      <td>40.764126</td>\n",
       "    </tr>\n",
       "  </tbody>\n",
       "</table>\n",
       "</div>"
      ],
      "text/plain": [
       "               Neighborhood    Borough   Latitude  Longitude\n",
       "115  Murray Hill, Manhattan  Manhattan -73.978332  40.748303\n",
       "180     Murray Hill, Queens     Queens -73.812763  40.764126"
      ]
     },
     "execution_count": 85,
     "metadata": {},
     "output_type": "execute_result"
    }
   ],
   "source": [
    "nyc_df[nyc_df['Neighborhood'].str.startswith('Murray Hill')]"
   ]
  },
  {
   "cell_type": "code",
   "execution_count": 86,
   "id": "ea314083-95d4-426d-9abb-fb4ad22180d9",
   "metadata": {},
   "outputs": [
    {
     "data": {
      "text/html": [
       "<div>\n",
       "<style scoped>\n",
       "    .dataframe tbody tr th:only-of-type {\n",
       "        vertical-align: middle;\n",
       "    }\n",
       "\n",
       "    .dataframe tbody tr th {\n",
       "        vertical-align: top;\n",
       "    }\n",
       "\n",
       "    .dataframe thead th {\n",
       "        text-align: right;\n",
       "    }\n",
       "</style>\n",
       "<table border=\"1\" class=\"dataframe\">\n",
       "  <thead>\n",
       "    <tr style=\"text-align: right;\">\n",
       "      <th></th>\n",
       "      <th>Neighborhood</th>\n",
       "      <th>Borough</th>\n",
       "      <th>Latitude</th>\n",
       "      <th>Longitude</th>\n",
       "    </tr>\n",
       "  </thead>\n",
       "  <tbody>\n",
       "    <tr>\n",
       "      <th>175</th>\n",
       "      <td>Bay Terrace, Queens</td>\n",
       "      <td>Queens</td>\n",
       "      <td>-73.776802</td>\n",
       "      <td>40.782843</td>\n",
       "    </tr>\n",
       "    <tr>\n",
       "      <th>235</th>\n",
       "      <td>Bay Terrace, Staten Island</td>\n",
       "      <td>Staten Island</td>\n",
       "      <td>-74.139166</td>\n",
       "      <td>40.553988</td>\n",
       "    </tr>\n",
       "  </tbody>\n",
       "</table>\n",
       "</div>"
      ],
      "text/plain": [
       "                   Neighborhood        Borough   Latitude  Longitude\n",
       "175         Bay Terrace, Queens         Queens -73.776802  40.782843\n",
       "235  Bay Terrace, Staten Island  Staten Island -74.139166  40.553988"
      ]
     },
     "execution_count": 86,
     "metadata": {},
     "output_type": "execute_result"
    }
   ],
   "source": [
    "nyc_df[nyc_df['Neighborhood'].str.startswith('Bay Terrace')]"
   ]
  },
  {
   "cell_type": "code",
   "execution_count": 89,
   "id": "b950537a-8871-4b01-aa48-2fde518d89e8",
   "metadata": {},
   "outputs": [
    {
     "data": {
      "text/plain": [
       "Neighborhood    0\n",
       "Borough         0\n",
       "Latitude        0\n",
       "Longitude       0\n",
       "dtype: int64"
      ]
     },
     "execution_count": 89,
     "metadata": {},
     "output_type": "execute_result"
    }
   ],
   "source": [
    "nyc_df.isnull().sum()"
   ]
  },
  {
   "cell_type": "code",
   "execution_count": null,
   "id": "c1051368-5ded-4820-8039-47d05971b536",
   "metadata": {},
   "outputs": [],
   "source": []
  }
 ],
 "metadata": {
  "kernelspec": {
   "display_name": "Python 3 (ipykernel)",
   "language": "python",
   "name": "python3"
  },
  "language_info": {
   "codemirror_mode": {
    "name": "ipython",
    "version": 3
   },
   "file_extension": ".py",
   "mimetype": "text/x-python",
   "name": "python",
   "nbconvert_exporter": "python",
   "pygments_lexer": "ipython3",
   "version": "3.9.12"
  }
 },
 "nbformat": 4,
 "nbformat_minor": 5
}
