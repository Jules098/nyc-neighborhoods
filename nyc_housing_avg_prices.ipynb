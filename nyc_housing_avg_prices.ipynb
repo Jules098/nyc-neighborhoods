{
 "cells": [
  {
   "cell_type": "code",
   "execution_count": 2,
   "id": "ac90fbc4",
   "metadata": {},
   "outputs": [],
   "source": [
    "# Import libraries\n",
    "import pandas as pd"
   ]
  },
  {
   "cell_type": "code",
   "execution_count": 3,
   "id": "5a4cd6ef",
   "metadata": {},
   "outputs": [],
   "source": [
    "# Load the data\n",
    "data = pd.read_csv('nyc_housing_avg_prices.csv')"
   ]
  },
  {
   "cell_type": "code",
   "execution_count": 4,
   "id": "b4656b88",
   "metadata": {},
   "outputs": [
    {
     "data": {
      "text/html": [
       "<div>\n",
       "<style scoped>\n",
       "    .dataframe tbody tr th:only-of-type {\n",
       "        vertical-align: middle;\n",
       "    }\n",
       "\n",
       "    .dataframe tbody tr th {\n",
       "        vertical-align: top;\n",
       "    }\n",
       "\n",
       "    .dataframe thead th {\n",
       "        text-align: right;\n",
       "    }\n",
       "</style>\n",
       "<table border=\"1\" class=\"dataframe\">\n",
       "  <thead>\n",
       "    <tr style=\"text-align: right;\">\n",
       "      <th></th>\n",
       "      <th>borough</th>\n",
       "      <th>neigborhood</th>\n",
       "      <th>studio</th>\n",
       "      <th>1_bedroom</th>\n",
       "      <th>2_bedroom</th>\n",
       "      <th>3_bedroom</th>\n",
       "    </tr>\n",
       "  </thead>\n",
       "  <tbody>\n",
       "    <tr>\n",
       "      <th>0</th>\n",
       "      <td>manhatan</td>\n",
       "      <td>Chelsea</td>\n",
       "      <td>$2,794</td>\n",
       "      <td>$4,062</td>\n",
       "      <td>$6,997</td>\n",
       "      <td>$11,031</td>\n",
       "    </tr>\n",
       "    <tr>\n",
       "      <th>1</th>\n",
       "      <td>manhatan</td>\n",
       "      <td>East Village</td>\n",
       "      <td>$2,608</td>\n",
       "      <td>$3,280</td>\n",
       "      <td>$4,044</td>\n",
       "      <td>$5,289</td>\n",
       "    </tr>\n",
       "    <tr>\n",
       "      <th>2</th>\n",
       "      <td>manhatan</td>\n",
       "      <td>Flatiron/Union Square</td>\n",
       "      <td>$3,632</td>\n",
       "      <td>$4,645</td>\n",
       "      <td>$8,267</td>\n",
       "      <td>$15,969</td>\n",
       "    </tr>\n",
       "    <tr>\n",
       "      <th>3</th>\n",
       "      <td>manhatan</td>\n",
       "      <td>Gramercy Park</td>\n",
       "      <td>$2,569</td>\n",
       "      <td>$3,656</td>\n",
       "      <td>$5,413</td>\n",
       "      <td>$7,226</td>\n",
       "    </tr>\n",
       "    <tr>\n",
       "      <th>4</th>\n",
       "      <td>manhatan</td>\n",
       "      <td>Greenwich Village</td>\n",
       "      <td>$2,828</td>\n",
       "      <td>$4,116</td>\n",
       "      <td>$8,000</td>\n",
       "      <td>$12,418</td>\n",
       "    </tr>\n",
       "  </tbody>\n",
       "</table>\n",
       "</div>"
      ],
      "text/plain": [
       "    borough            neigborhood  studio 1_bedroom 2_bedroom 3_bedroom\n",
       "0  manhatan                Chelsea  $2,794    $4,062    $6,997   $11,031\n",
       "1  manhatan           East Village  $2,608    $3,280    $4,044    $5,289\n",
       "2  manhatan  Flatiron/Union Square  $3,632    $4,645    $8,267   $15,969\n",
       "3  manhatan          Gramercy Park  $2,569    $3,656    $5,413    $7,226\n",
       "4  manhatan      Greenwich Village  $2,828    $4,116    $8,000   $12,418"
      ]
     },
     "execution_count": 4,
     "metadata": {},
     "output_type": "execute_result"
    }
   ],
   "source": [
    "# Explore the df\n",
    "data.head()"
   ]
  },
  {
   "cell_type": "markdown",
   "id": "7a19483f",
   "metadata": {},
   "source": [
    "#### From the above, we can see that some neighborhood names might be slightly different from our main dataframe with latitude and longitude. We may need to revisit this later."
   ]
  },
  {
   "cell_type": "markdown",
   "id": "a1020b39",
   "metadata": {},
   "source": [
    "## Feature Engineering"
   ]
  },
  {
   "cell_type": "code",
   "execution_count": 5,
   "id": "007b9557",
   "metadata": {},
   "outputs": [],
   "source": [
    "# Change the column names to match original df\n",
    "cols = ['Borough', 'Neighborhood', 'Studio', '1_bedroom', '2_bedroom', '3_bedroom']\n",
    "\n",
    "data.columns = cols"
   ]
  },
  {
   "cell_type": "code",
   "execution_count": 6,
   "id": "18c3c3ab",
   "metadata": {},
   "outputs": [
    {
     "data": {
      "text/html": [
       "<div>\n",
       "<style scoped>\n",
       "    .dataframe tbody tr th:only-of-type {\n",
       "        vertical-align: middle;\n",
       "    }\n",
       "\n",
       "    .dataframe tbody tr th {\n",
       "        vertical-align: top;\n",
       "    }\n",
       "\n",
       "    .dataframe thead th {\n",
       "        text-align: right;\n",
       "    }\n",
       "</style>\n",
       "<table border=\"1\" class=\"dataframe\">\n",
       "  <thead>\n",
       "    <tr style=\"text-align: right;\">\n",
       "      <th></th>\n",
       "      <th>Borough</th>\n",
       "      <th>Neighborhood</th>\n",
       "      <th>Studio</th>\n",
       "      <th>1_bedroom</th>\n",
       "      <th>2_bedroom</th>\n",
       "      <th>3_bedroom</th>\n",
       "    </tr>\n",
       "  </thead>\n",
       "  <tbody>\n",
       "    <tr>\n",
       "      <th>0</th>\n",
       "      <td>Manhatan</td>\n",
       "      <td>Chelsea</td>\n",
       "      <td>$2,794</td>\n",
       "      <td>$4,062</td>\n",
       "      <td>$6,997</td>\n",
       "      <td>$11,031</td>\n",
       "    </tr>\n",
       "    <tr>\n",
       "      <th>1</th>\n",
       "      <td>Manhatan</td>\n",
       "      <td>East Village</td>\n",
       "      <td>$2,608</td>\n",
       "      <td>$3,280</td>\n",
       "      <td>$4,044</td>\n",
       "      <td>$5,289</td>\n",
       "    </tr>\n",
       "    <tr>\n",
       "      <th>2</th>\n",
       "      <td>Manhatan</td>\n",
       "      <td>Flatiron/Union Square</td>\n",
       "      <td>$3,632</td>\n",
       "      <td>$4,645</td>\n",
       "      <td>$8,267</td>\n",
       "      <td>$15,969</td>\n",
       "    </tr>\n",
       "    <tr>\n",
       "      <th>3</th>\n",
       "      <td>Manhatan</td>\n",
       "      <td>Gramercy Park</td>\n",
       "      <td>$2,569</td>\n",
       "      <td>$3,656</td>\n",
       "      <td>$5,413</td>\n",
       "      <td>$7,226</td>\n",
       "    </tr>\n",
       "    <tr>\n",
       "      <th>4</th>\n",
       "      <td>Manhatan</td>\n",
       "      <td>Greenwich Village</td>\n",
       "      <td>$2,828</td>\n",
       "      <td>$4,116</td>\n",
       "      <td>$8,000</td>\n",
       "      <td>$12,418</td>\n",
       "    </tr>\n",
       "  </tbody>\n",
       "</table>\n",
       "</div>"
      ],
      "text/plain": [
       "    Borough           Neighborhood  Studio 1_bedroom 2_bedroom 3_bedroom\n",
       "0  Manhatan                Chelsea  $2,794    $4,062    $6,997   $11,031\n",
       "1  Manhatan           East Village  $2,608    $3,280    $4,044    $5,289\n",
       "2  Manhatan  Flatiron/Union Square  $3,632    $4,645    $8,267   $15,969\n",
       "3  Manhatan          Gramercy Park  $2,569    $3,656    $5,413    $7,226\n",
       "4  Manhatan      Greenwich Village  $2,828    $4,116    $8,000   $12,418"
      ]
     },
     "execution_count": 6,
     "metadata": {},
     "output_type": "execute_result"
    }
   ],
   "source": [
    "# Capitalize first letter in each borough\n",
    "data['Borough'] = data.Borough.str.title()\n",
    "data.head()"
   ]
  },
  {
   "cell_type": "code",
   "execution_count": 7,
   "id": "1e3da317",
   "metadata": {},
   "outputs": [
    {
     "data": {
      "text/plain": [
       "Borough         0\n",
       "Neighborhood    0\n",
       "Studio          0\n",
       "1_bedroom       0\n",
       "2_bedroom       0\n",
       "3_bedroom       0\n",
       "dtype: int64"
      ]
     },
     "execution_count": 7,
     "metadata": {},
     "output_type": "execute_result"
    }
   ],
   "source": [
    "# Check for missing values\n",
    "data.isnull().sum()"
   ]
  },
  {
   "cell_type": "code",
   "execution_count": 8,
   "id": "136601de",
   "metadata": {},
   "outputs": [
    {
     "data": {
      "text/plain": [
       "(55, 6)"
      ]
     },
     "execution_count": 8,
     "metadata": {},
     "output_type": "execute_result"
    }
   ],
   "source": [
    "# Check shape of df \n",
    "data.shape"
   ]
  },
  {
   "cell_type": "code",
   "execution_count": 11,
   "id": "b8d93337",
   "metadata": {},
   "outputs": [
    {
     "data": {
      "text/plain": [
       "Borough          object\n",
       "Neighborhood     object\n",
       "Studio           object\n",
       "1_bedroom        object\n",
       "2_bedroom        object\n",
       "3_bedroom        object\n",
       "Avg_Rent        float64\n",
       "dtype: object"
      ]
     },
     "execution_count": 11,
     "metadata": {},
     "output_type": "execute_result"
    }
   ],
   "source": [
    "# Check data type\n",
    "data.dtypes"
   ]
  },
  {
   "cell_type": "code",
   "execution_count": 12,
   "id": "d91bd4e3",
   "metadata": {},
   "outputs": [
    {
     "data": {
      "text/html": [
       "<div>\n",
       "<style scoped>\n",
       "    .dataframe tbody tr th:only-of-type {\n",
       "        vertical-align: middle;\n",
       "    }\n",
       "\n",
       "    .dataframe tbody tr th {\n",
       "        vertical-align: top;\n",
       "    }\n",
       "\n",
       "    .dataframe thead th {\n",
       "        text-align: right;\n",
       "    }\n",
       "</style>\n",
       "<table border=\"1\" class=\"dataframe\">\n",
       "  <thead>\n",
       "    <tr style=\"text-align: right;\">\n",
       "      <th></th>\n",
       "      <th>Borough</th>\n",
       "      <th>Neighborhood</th>\n",
       "      <th>Studio</th>\n",
       "      <th>1_bedroom</th>\n",
       "      <th>2_bedroom</th>\n",
       "      <th>3_bedroom</th>\n",
       "      <th>Avg_Rent</th>\n",
       "    </tr>\n",
       "  </thead>\n",
       "  <tbody>\n",
       "    <tr>\n",
       "      <th>0</th>\n",
       "      <td>Manhatan</td>\n",
       "      <td>Chelsea</td>\n",
       "      <td>$2,794</td>\n",
       "      <td>$4,062</td>\n",
       "      <td>$6,997</td>\n",
       "      <td>$11,031</td>\n",
       "      <td>NaN</td>\n",
       "    </tr>\n",
       "    <tr>\n",
       "      <th>1</th>\n",
       "      <td>Manhatan</td>\n",
       "      <td>East Village</td>\n",
       "      <td>$2,608</td>\n",
       "      <td>$3,280</td>\n",
       "      <td>$4,044</td>\n",
       "      <td>$5,289</td>\n",
       "      <td>NaN</td>\n",
       "    </tr>\n",
       "    <tr>\n",
       "      <th>2</th>\n",
       "      <td>Manhatan</td>\n",
       "      <td>Flatiron/Union Square</td>\n",
       "      <td>$3,632</td>\n",
       "      <td>$4,645</td>\n",
       "      <td>$8,267</td>\n",
       "      <td>$15,969</td>\n",
       "      <td>NaN</td>\n",
       "    </tr>\n",
       "    <tr>\n",
       "      <th>3</th>\n",
       "      <td>Manhatan</td>\n",
       "      <td>Gramercy Park</td>\n",
       "      <td>$2,569</td>\n",
       "      <td>$3,656</td>\n",
       "      <td>$5,413</td>\n",
       "      <td>$7,226</td>\n",
       "      <td>NaN</td>\n",
       "    </tr>\n",
       "    <tr>\n",
       "      <th>4</th>\n",
       "      <td>Manhatan</td>\n",
       "      <td>Greenwich Village</td>\n",
       "      <td>$2,828</td>\n",
       "      <td>$4,116</td>\n",
       "      <td>$8,000</td>\n",
       "      <td>$12,418</td>\n",
       "      <td>NaN</td>\n",
       "    </tr>\n",
       "  </tbody>\n",
       "</table>\n",
       "</div>"
      ],
      "text/plain": [
       "    Borough           Neighborhood  Studio 1_bedroom 2_bedroom 3_bedroom  \\\n",
       "0  Manhatan                Chelsea  $2,794    $4,062    $6,997   $11,031   \n",
       "1  Manhatan           East Village  $2,608    $3,280    $4,044    $5,289   \n",
       "2  Manhatan  Flatiron/Union Square  $3,632    $4,645    $8,267   $15,969   \n",
       "3  Manhatan          Gramercy Park  $2,569    $3,656    $5,413    $7,226   \n",
       "4  Manhatan      Greenwich Village  $2,828    $4,116    $8,000   $12,418   \n",
       "\n",
       "   Avg_Rent  \n",
       "0       NaN  \n",
       "1       NaN  \n",
       "2       NaN  \n",
       "3       NaN  \n",
       "4       NaN  "
      ]
     },
     "execution_count": 12,
     "metadata": {},
     "output_type": "execute_result"
    }
   ],
   "source": [
    "data.head()"
   ]
  },
  {
   "cell_type": "code",
   "execution_count": 24,
   "id": "d771fff6",
   "metadata": {},
   "outputs": [
    {
     "ename": "KeyError",
     "evalue": "\"None of [Index(['$2,794', '$2,608', '$3,632', '$2,569', '$2,828', '$2,823', '$2,955',\\n       '$2,710', '$5,121', '$2,683', '$3,589', '$3,502', '$2,765', '$2,676',\\n       '$2,485', '$2,589', '$2,474', '$2,237', '$2,307', '$2,316', '$4,289',\\n       '$2,696', '$2,215', '$2,328', '$2,362', '$2,662', '$2,329', '$2,330',\\n       '$2,010', '$1,992', '$1,899', '$1,657', '$1,978', '$2,044', '$2,092',\\n       '$2,509', '$2,050', '$2,271', '$2,409', '$2,100', '$1,806', '$2,443',\\n       '$3,189', '$2,957', '$2,293', '$2,347', '$1,724', '$2,795', '$2,393',\\n       '$1,933', '-', '$2,400', '$1,400', '$2,712', '$1,939'],\\n      dtype='object')] are in the [columns]\"",
     "output_type": "error",
     "traceback": [
      "\u001b[0;31m---------------------------------------------------------------------------\u001b[0m",
      "\u001b[0;31mKeyError\u001b[0m                                  Traceback (most recent call last)",
      "Input \u001b[0;32mIn [24]\u001b[0m, in \u001b[0;36m<cell line: 2>\u001b[0;34m()\u001b[0m\n\u001b[1;32m      1\u001b[0m \u001b[38;5;66;03m# Replace striing with floats\u001b[39;00m\n\u001b[0;32m----> 2\u001b[0m \u001b[43mdata\u001b[49m\u001b[43m[\u001b[49m\u001b[43mdata\u001b[49m\u001b[43m[\u001b[49m\u001b[38;5;124;43m'\u001b[39;49m\u001b[38;5;124;43mStudio\u001b[39;49m\u001b[38;5;124;43m'\u001b[39;49m\u001b[43m]\u001b[49m\u001b[43m]\u001b[49m\u001b[38;5;241m.\u001b[39mreplace(\u001b[38;5;124m'\u001b[39m\u001b[38;5;124m[\u001b[39m\u001b[38;5;124m\\\u001b[39m\u001b[38;5;124m$,]\u001b[39m\u001b[38;5;124m'\u001b[39m, \u001b[38;5;124m'\u001b[39m\u001b[38;5;124m'\u001b[39m, regex\u001b[38;5;241m=\u001b[39m\u001b[38;5;28;01mTrue\u001b[39;00m)\u001b[38;5;241m.\u001b[39mastype(\u001b[38;5;28mfloat\u001b[39m)\n",
      "File \u001b[0;32m~/anaconda3/lib/python3.9/site-packages/pandas/core/frame.py:3511\u001b[0m, in \u001b[0;36mDataFrame.__getitem__\u001b[0;34m(self, key)\u001b[0m\n\u001b[1;32m   3509\u001b[0m     \u001b[38;5;28;01mif\u001b[39;00m is_iterator(key):\n\u001b[1;32m   3510\u001b[0m         key \u001b[38;5;241m=\u001b[39m \u001b[38;5;28mlist\u001b[39m(key)\n\u001b[0;32m-> 3511\u001b[0m     indexer \u001b[38;5;241m=\u001b[39m \u001b[38;5;28;43mself\u001b[39;49m\u001b[38;5;241;43m.\u001b[39;49m\u001b[43mcolumns\u001b[49m\u001b[38;5;241;43m.\u001b[39;49m\u001b[43m_get_indexer_strict\u001b[49m\u001b[43m(\u001b[49m\u001b[43mkey\u001b[49m\u001b[43m,\u001b[49m\u001b[43m \u001b[49m\u001b[38;5;124;43m\"\u001b[39;49m\u001b[38;5;124;43mcolumns\u001b[39;49m\u001b[38;5;124;43m\"\u001b[39;49m\u001b[43m)\u001b[49m[\u001b[38;5;241m1\u001b[39m]\n\u001b[1;32m   3513\u001b[0m \u001b[38;5;66;03m# take() does not accept boolean indexers\u001b[39;00m\n\u001b[1;32m   3514\u001b[0m \u001b[38;5;28;01mif\u001b[39;00m \u001b[38;5;28mgetattr\u001b[39m(indexer, \u001b[38;5;124m\"\u001b[39m\u001b[38;5;124mdtype\u001b[39m\u001b[38;5;124m\"\u001b[39m, \u001b[38;5;28;01mNone\u001b[39;00m) \u001b[38;5;241m==\u001b[39m \u001b[38;5;28mbool\u001b[39m:\n",
      "File \u001b[0;32m~/anaconda3/lib/python3.9/site-packages/pandas/core/indexes/base.py:5782\u001b[0m, in \u001b[0;36mIndex._get_indexer_strict\u001b[0;34m(self, key, axis_name)\u001b[0m\n\u001b[1;32m   5779\u001b[0m \u001b[38;5;28;01melse\u001b[39;00m:\n\u001b[1;32m   5780\u001b[0m     keyarr, indexer, new_indexer \u001b[38;5;241m=\u001b[39m \u001b[38;5;28mself\u001b[39m\u001b[38;5;241m.\u001b[39m_reindex_non_unique(keyarr)\n\u001b[0;32m-> 5782\u001b[0m \u001b[38;5;28;43mself\u001b[39;49m\u001b[38;5;241;43m.\u001b[39;49m\u001b[43m_raise_if_missing\u001b[49m\u001b[43m(\u001b[49m\u001b[43mkeyarr\u001b[49m\u001b[43m,\u001b[49m\u001b[43m \u001b[49m\u001b[43mindexer\u001b[49m\u001b[43m,\u001b[49m\u001b[43m \u001b[49m\u001b[43maxis_name\u001b[49m\u001b[43m)\u001b[49m\n\u001b[1;32m   5784\u001b[0m keyarr \u001b[38;5;241m=\u001b[39m \u001b[38;5;28mself\u001b[39m\u001b[38;5;241m.\u001b[39mtake(indexer)\n\u001b[1;32m   5785\u001b[0m \u001b[38;5;28;01mif\u001b[39;00m \u001b[38;5;28misinstance\u001b[39m(key, Index):\n\u001b[1;32m   5786\u001b[0m     \u001b[38;5;66;03m# GH 42790 - Preserve name from an Index\u001b[39;00m\n",
      "File \u001b[0;32m~/anaconda3/lib/python3.9/site-packages/pandas/core/indexes/base.py:5842\u001b[0m, in \u001b[0;36mIndex._raise_if_missing\u001b[0;34m(self, key, indexer, axis_name)\u001b[0m\n\u001b[1;32m   5840\u001b[0m     \u001b[38;5;28;01mif\u001b[39;00m use_interval_msg:\n\u001b[1;32m   5841\u001b[0m         key \u001b[38;5;241m=\u001b[39m \u001b[38;5;28mlist\u001b[39m(key)\n\u001b[0;32m-> 5842\u001b[0m     \u001b[38;5;28;01mraise\u001b[39;00m \u001b[38;5;167;01mKeyError\u001b[39;00m(\u001b[38;5;124mf\u001b[39m\u001b[38;5;124m\"\u001b[39m\u001b[38;5;124mNone of [\u001b[39m\u001b[38;5;132;01m{\u001b[39;00mkey\u001b[38;5;132;01m}\u001b[39;00m\u001b[38;5;124m] are in the [\u001b[39m\u001b[38;5;132;01m{\u001b[39;00maxis_name\u001b[38;5;132;01m}\u001b[39;00m\u001b[38;5;124m]\u001b[39m\u001b[38;5;124m\"\u001b[39m)\n\u001b[1;32m   5844\u001b[0m not_found \u001b[38;5;241m=\u001b[39m \u001b[38;5;28mlist\u001b[39m(ensure_index(key)[missing_mask\u001b[38;5;241m.\u001b[39mnonzero()[\u001b[38;5;241m0\u001b[39m]]\u001b[38;5;241m.\u001b[39munique())\n\u001b[1;32m   5845\u001b[0m \u001b[38;5;28;01mraise\u001b[39;00m \u001b[38;5;167;01mKeyError\u001b[39;00m(\u001b[38;5;124mf\u001b[39m\u001b[38;5;124m\"\u001b[39m\u001b[38;5;132;01m{\u001b[39;00mnot_found\u001b[38;5;132;01m}\u001b[39;00m\u001b[38;5;124m not in index\u001b[39m\u001b[38;5;124m\"\u001b[39m)\n",
      "\u001b[0;31mKeyError\u001b[0m: \"None of [Index(['$2,794', '$2,608', '$3,632', '$2,569', '$2,828', '$2,823', '$2,955',\\n       '$2,710', '$5,121', '$2,683', '$3,589', '$3,502', '$2,765', '$2,676',\\n       '$2,485', '$2,589', '$2,474', '$2,237', '$2,307', '$2,316', '$4,289',\\n       '$2,696', '$2,215', '$2,328', '$2,362', '$2,662', '$2,329', '$2,330',\\n       '$2,010', '$1,992', '$1,899', '$1,657', '$1,978', '$2,044', '$2,092',\\n       '$2,509', '$2,050', '$2,271', '$2,409', '$2,100', '$1,806', '$2,443',\\n       '$3,189', '$2,957', '$2,293', '$2,347', '$1,724', '$2,795', '$2,393',\\n       '$1,933', '-', '$2,400', '$1,400', '$2,712', '$1,939'],\\n      dtype='object')] are in the [columns]\""
     ]
    }
   ],
   "source": [
    "# Replace striing with floats\n",
    "data[data['Studio']].replace('[\\$,]', '', regex=True).astype(float)"
   ]
  },
  {
   "cell_type": "code",
   "execution_count": 18,
   "id": "e25e9b7f",
   "metadata": {},
   "outputs": [],
   "source": [
    "# Create new feature - average rent price\n",
    "data['Avg_Rent'] = data[['Studio', '1_bedroom', '2_bedroom', '3_bedroom']].mean()"
   ]
  }
 ],
 "metadata": {
  "kernelspec": {
   "display_name": "Python 3 (ipykernel)",
   "language": "python",
   "name": "python3"
  },
  "language_info": {
   "codemirror_mode": {
    "name": "ipython",
    "version": 3
   },
   "file_extension": ".py",
   "mimetype": "text/x-python",
   "name": "python",
   "nbconvert_exporter": "python",
   "pygments_lexer": "ipython3",
   "version": "3.9.12"
  }
 },
 "nbformat": 4,
 "nbformat_minor": 5
}
